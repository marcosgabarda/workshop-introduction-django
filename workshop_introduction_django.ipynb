{
 "metadata": {
  "name": ""
 },
 "nbformat": 3,
 "nbformat_minor": 0,
 "worksheets": [
  {
   "cells": [
    {
     "cell_type": "markdown",
     "metadata": {
      "slideshow": {
       "slide_type": "slide"
      }
     },
     "source": [
      "Taller de introducci\u00f3n a Django\n",
      "===============================\n",
      "\n",
      "Marcos Gabarda Inat\n",
      "\n",
      "*Python Valencia*"
     ]
    },
    {
     "cell_type": "markdown",
     "metadata": {
      "slideshow": {
       "slide_type": "slide"
      }
     },
     "source": [
      "\u00bfQu\u00e9 es Django?\n",
      "---------------\n",
      "\n",
      "Es un framework para el desarrollo de aplicaciones Web, y se define a si mismo como:\n",
      "\n",
      "> El Web Framework para perfeccionistas con las fechas de entrega\n",
      "\n"
     ]
    },
    {
     "cell_type": "markdown",
     "metadata": {
      "slideshow": {
       "slide_type": "fragment"
      }
     },
     "source": [
      "Con Django tenemos:\n",
      "\n",
      "* Un sistema de mapeo objeto-relacional (ORM)\n",
      "* Dise\u00f1o y enrutamiento de URLs\n",
      "* Lenguaje propio de *templates*\n",
      "* Formularios reutilizables\n",
      "* Y muchas cosas m\u00e1s"
     ]
    },
    {
     "cell_type": "markdown",
     "metadata": {
      "slideshow": {
       "slide_type": "fragment"
      }
     },
     "source": [
      "Pero sobretodo...\n",
      "\n",
      "* Django es **Python**\n"
     ]
    },
    {
     "cell_type": "markdown",
     "metadata": {
      "slideshow": {
       "slide_type": "slide"
      }
     },
     "source": [
      "El patr\u00f3n MVC y los deadlines\n",
      "-----------------------------\n",
      "\n",
      "El patr\u00f3n Modelo-Vista-Controlador es m\u00e1s extendido en el desarrollo de aplicaciones Web:\n",
      "\n",
      "![MVC](http://upload.wikimedia.org/wikipedia/commons/thumb/a/a9/ModelViewControllerDiagram_es.svg/300px-ModelViewControllerDiagram_es.svg.png)\n",
      "\n",
      "* Modelo: Se encarga del acceso a los datos y de la l\u00f3gica de negocio\n",
      "* Vista: Muestra la informaci\u00f3n al usuario\n",
      "* Controlador: Maneja las interacci\u00f3n del usuario con la aplicaci\u00f3n\n"
     ]
    },
    {
     "cell_type": "markdown",
     "metadata": {
      "slideshow": {
       "slide_type": "fragment"
      }
     },
     "source": [
      "\n",
      "Partiendo de esta base, Django implementa un patr\u00f3n que llama **Modelo-Template-Vista**, buscando efatizar el desarrollo **r\u00e1pido**."
     ]
    },
    {
     "cell_type": "heading",
     "level": 1,
     "metadata": {
      "slideshow": {
       "slide_type": "slide"
      }
     },
     "source": [
      "Pero esto es un taller..."
     ]
    },
    {
     "cell_type": "markdown",
     "metadata": {
      "slideshow": {
       "slide_type": "slide"
      }
     },
     "source": [
      "Proyecto \"Coffee\"\n",
      "-----------------\n",
      "\n",
      "Briefing:\n",
      "\n",
      "> Desarrollar una aplicaci\u00f3n Web donde podamos hacer publicar los caf\u00e9s que nos tomamos durante largo d\u00eda de programaci\u00f3n.\n"
     ]
    },
    {
     "cell_type": "code",
     "collapsed": false,
     "input": [
      "from IPython.display import Image\n",
      "Image(filename=\"files/python_like_mug.jpg\")"
     ],
     "language": "python",
     "metadata": {
      "slideshow": {
       "slide_type": "fragment"
      }
     },
     "outputs": [
      {
       "jpeg": "[encoded data removed]",
       "metadata": {},
       "output_type": "pyout",
       "prompt_number": 5,
       "text": [
        "<IPython.core.display.Image at 0x2631910>"
       ]
      }
     ],
     "prompt_number": 5
    },
    {
     "cell_type": "markdown",
     "metadata": {
      "slideshow": {
       "slide_type": "slide"
      }
     },
     "source": [
      "### Histor\u00edas de usuario ###\n",
      "\n",
      "1. Un visitante podr\u00e1 registarte en nuestr\u00e1 p\u00e1gina con un nombre de usuario y contrase\u00f1a\n",
      "2. Un visitante podr\u00e1 identificarse en la p\u00e1gina como un usuario usando los datos del registro\n",
      "3. Un usuario podr\u00e1 indicar que se ha tomado un caf\u00e9, seleccionandolo de una lista\n",
      "4. Un usuario podr\u00e1 agregar un nuevo caf\u00e9 a la lista, indicando un nombre, una im\u00e1gen y una descripci\u00f3n\n"
     ]
    },
    {
     "cell_type": "markdown",
     "metadata": {
      "slideshow": {
       "slide_type": "slide"
      }
     },
     "source": [
      "Primero lo primero\n",
      "------------------\n",
      "\n",
      "Necesitamos crear un proyecto de Django:\n",
      "\n",
      "    django-admin.py startproject coffeeproject\n",
      "\n"
     ]
    },
    {
     "cell_type": "markdown",
     "metadata": {
      "slideshow": {
       "slide_type": "fragment"
      }
     },
     "source": [
      "    $ tree coffeeproject\n",
      "    \n",
      "    coffeeproject\n",
      "    \u251c\u2500\u2500 coffeeproject\n",
      "    \u2502   \u251c\u2500\u2500 __init__.py\n",
      "    \u2502   \u251c\u2500\u2500 settings.py\n",
      "    \u2502   \u251c\u2500\u2500 urls.py\n",
      "    \u2502   \u2514\u2500\u2500 wsgi.py\n",
      "    \u2514\u2500\u2500 manage.py\n",
      "    \n",
      "    1 directory, 5 files"
     ]
    },
    {
     "cell_type": "markdown",
     "metadata": {
      "slideshow": {
       "slide_type": "slide"
      }
     },
     "source": [
      "Nuestra primera app\n",
      "-------------------\n",
      "\n",
      "    python manage.py startapp coffees\n",
      "    "
     ]
    },
    {
     "cell_type": "markdown",
     "metadata": {
      "slideshow": {
       "slide_type": "fragment"
      }
     },
     "source": [
      "    $ tree coffeeproject/\n",
      "    coffeeproject/\n",
      "    \u251c\u2500\u2500 coffeeproject\n",
      "    \u2502\u00a0\u00a0 \u251c\u2500\u2500 __init__.py\n",
      "    \u2502\u00a0\u00a0 \u251c\u2500\u2500 settings.py\n",
      "    \u2502\u00a0\u00a0 \u251c\u2500\u2500 urls.py\n",
      "    \u2502\u00a0\u00a0 \u2514\u2500\u2500 wsgi.py\n",
      "    \u251c\u2500\u2500 coffees\n",
      "    \u2502\u00a0\u00a0 \u251c\u2500\u2500 admin.py\n",
      "    \u2502\u00a0\u00a0 \u251c\u2500\u2500 __init__.py\n",
      "    \u2502\u00a0\u00a0 \u251c\u2500\u2500 models.py\n",
      "    \u2502\u00a0\u00a0 \u251c\u2500\u2500 tests.py\n",
      "    \u2502\u00a0\u00a0 \u2514\u2500\u2500 views.py\n",
      "    \u2514\u2500\u2500 manage.py\n",
      "\n",
      "    2 directories, 12 files\n",
      "\n"
     ]
    },
    {
     "cell_type": "markdown",
     "metadata": {
      "slideshow": {
       "slide_type": "slide"
      }
     },
     "source": [
      "models.py\n",
      "---------\n",
      "\n",
      "\n",
      "```python\n",
      "from django.db import models\n",
      "\n",
      "# Create your models here.\n",
      "\n",
      "\n",
      "class Coffee(models.Model):\n",
      "    \"\"\"\n",
      "    Model for coffe.\n",
      "    \"\"\"\n",
      "    name = models.CharField(max_length=128)\n",
      "    picture = models.ImageField(null=True, blank=True)\n",
      "    created_at = models.DateTimeField(auto_add_now=True)\n",
      "```"
     ]
    },
    {
     "cell_type": "code",
     "collapsed": false,
     "input": [],
     "language": "python",
     "metadata": {},
     "outputs": []
    }
   ],
   "metadata": {}
  }
 ]
}