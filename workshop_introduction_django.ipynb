{
 "metadata": {
  "name": ""
 },
 "nbformat": 3,
 "nbformat_minor": 0,
 "worksheets": [
  {
   "cells": [
    {
     "cell_type": "markdown",
     "metadata": {
      "slideshow": {
       "slide_type": "slide"
      }
     },
     "source": [
      "Taller de introducci\u00f3n a Django\n",
      "===============================\n",
      "\n",
      "Marcos Gabarda Inat\n",
      "\n",
      "*Python Valencia*"
     ]
    },
    {
     "cell_type": "markdown",
     "metadata": {
      "slideshow": {
       "slide_type": "slide"
      }
     },
     "source": [
      "\u00bfQu\u00e9 es Django?\n",
      "---------------\n",
      "\n",
      "Es un framework para el desarrollo de aplicaciones Web, y se define a si mismo como:\n",
      "\n",
      "> El Web Framework para perfeccionistas con las fechas de entrega\n",
      "\n"
     ]
    },
    {
     "cell_type": "markdown",
     "metadata": {
      "slideshow": {
       "slide_type": "fragment"
      }
     },
     "source": [
      "Con Django tenemos:\n",
      "\n",
      "* Un sistema de mapeo objeto-relacional (ORM)\n",
      "* Dise\u00f1o y enrutamiento de URLs\n",
      "* Lenguaje propio de *templates*\n",
      "* Formularios reutilizables\n",
      "* Y muchas cosas m\u00e1s"
     ]
    },
    {
     "cell_type": "markdown",
     "metadata": {
      "slideshow": {
       "slide_type": "fragment"
      }
     },
     "source": [
      "Pero sobretodo...\n",
      "\n",
      "* Django es **Python**\n"
     ]
    },
    {
     "cell_type": "markdown",
     "metadata": {
      "slideshow": {
       "slide_type": "slide"
      }
     },
     "source": [
      "El patr\u00f3n MVC y los deadlines\n",
      "-----------------------------\n",
      "\n",
      "El patr\u00f3n Modelo-Vista-Controlador es m\u00e1s extendido en el desarrollo de aplicaciones Web:\n",
      "\n",
      "![MVC](http://upload.wikimedia.org/wikipedia/commons/thumb/a/a9/ModelViewControllerDiagram_es.svg/300px-ModelViewControllerDiagram_es.svg.png)\n",
      "\n",
      "* Modelo: Se encarga del acceso a los datos y de la l\u00f3gica de negocio\n",
      "* Vista: Muestra la informaci\u00f3n al usuario\n",
      "* Controlador: Maneja las interacci\u00f3n del usuario con la aplicaci\u00f3n\n"
     ]
    },
    {
     "cell_type": "markdown",
     "metadata": {
      "slideshow": {
       "slide_type": "slide"
      }
     },
     "source": [
      "Partiendo de esta base, Django implementa un patr\u00f3n que llama **Modelo-Template-Vista**, buscando efatizar el desarrollo **r\u00e1pido**.\n",
      "\n",
      "* **Vista** se corresponder\u00eda con el **controlador**\n",
      "* **Template** se corresponder\u00eda con la **vista**\n"
     ]
    },
    {
     "cell_type": "markdown",
     "metadata": {
      "slideshow": {
       "slide_type": "fragment"
      }
     },
     "source": [
      "> *Fat Models, Helper Modules, Thin Views, Stupid Templates*"
     ]
    },
    {
     "cell_type": "markdown",
     "metadata": {
      "slideshow": {
       "slide_type": "slide"
      }
     },
     "source": [
      "Modelos\n",
      "-------\n",
      "\n",
      "**Declaraci\u00f3n**\n"
     ]
    },
    {
     "cell_type": "code",
     "collapsed": false,
     "input": [
      "from django.db import models\n",
      "\n",
      "class Poll(models.Model):\n",
      "    question = models.CharField(max_length=200)\n",
      "    pub_date = models.DateTimeField('date published')\n",
      "\n",
      "class Choice(models.Model):\n",
      "    poll = models.ForeignKey(Poll)\n",
      "    choice_text = models.CharField(max_length=200)\n",
      "    votes = models.IntegerField(default=0)"
     ],
     "language": "python",
     "metadata": {
      "slideshow": {
       "slide_type": "fragment"
      }
     },
     "outputs": []
    },
    {
     "cell_type": "markdown",
     "metadata": {
      "slideshow": {
       "slide_type": "fragment"
      }
     },
     "source": [
      "**ORM API**"
     ]
    },
    {
     "cell_type": "code",
     "collapsed": false,
     "input": [
      ">>> from django.contrib.auth.models import User\n",
      ">>> User.objects.all()\n",
      "[]\n",
      "\n",
      ">>> u = User(username=\"dreinhardt\")\n",
      ">>> u.save()\n",
      "\n",
      ">>> User.objects.all()\n",
      "[<User: dreinhardt>]\n",
      "\n",
      ">>> User.objects.filter(username=\"dreinhardt\")\n",
      "[<User: dreinhardt>]"
     ],
     "language": "python",
     "metadata": {
      "slideshow": {
       "slide_type": "fragment"
      }
     },
     "outputs": []
    },
    {
     "cell_type": "markdown",
     "metadata": {
      "slideshow": {
       "slide_type": "slide"
      }
     },
     "source": [
      "Vistas\n",
      "------"
     ]
    },
    {
     "cell_type": "code",
     "collapsed": false,
     "input": [
      "from django.http import HttpResponse\n",
      "\n",
      "def index(request):\n",
      "    return HttpResponse(\"Hello world!\")"
     ],
     "language": "python",
     "metadata": {
      "slideshow": {
       "slide_type": "fragment"
      }
     },
     "outputs": []
    },
    {
     "cell_type": "markdown",
     "metadata": {
      "slideshow": {
       "slide_type": "slide"
      }
     },
     "source": [
      "Templates\n",
      "---------\n",
      "\n",
      "```\n",
      "<html>\n",
      "    <head></head>\n",
      "    <body>\n",
      "    {{ user.username }}\n",
      "    </body>\n",
      "</html>\n",
      "```"
     ]
    },
    {
     "cell_type": "markdown",
     "metadata": {
      "slideshow": {
       "slide_type": "slide"
      }
     },
     "source": [
      "Estructura de un proyecto en Django\n",
      "-----------------------------------\n",
      "\n",
      "Cuando realizamos una aplicaci\u00f3n web basada en Django es importante tener claro estos conceptos:\n",
      "\n",
      "* ***Django project*** que ser\u00e1 la aplicaci\u00f3n web desarrollada usando este framework\n",
      "* ***Django app***, peque\u00f1as librer\u00edas dise\u00f1adas para representar una parte del proyecto\n",
      "* ***Third-party package***, Django apps reutilizables que han desarrollado otras personas y hemos instalado con ``pip``\n"
     ]
    },
    {
     "cell_type": "heading",
     "level": 1,
     "metadata": {
      "slideshow": {
       "slide_type": "slide"
      }
     },
     "source": [
      "Pero esto es un taller..."
     ]
    },
    {
     "cell_type": "markdown",
     "metadata": {
      "slideshow": {
       "slide_type": "slide"
      }
     },
     "source": [
      "Entorno de desarrollo\n",
      "---------------------\n",
      "\n",
      "La forma m\u00e1s sencilla de instalar **Django** con [virtualenvwrapper](http://virtualenvwrapper.readthedocs.org/en/latest/) (o con virtualenv):\n",
      "\n",
      "\n",
      "    mkvirtualenv workshop\n",
      "    pip install django==1.6.1\n",
      "\n"
     ]
    },
    {
     "cell_type": "markdown",
     "metadata": {
      "slideshow": {
       "slide_type": "slide"
      }
     },
     "source": [
      "Proyecto \"Coffee\"\n",
      "-----------------\n",
      "\n",
      "Briefing:\n",
      "\n",
      "> Desarrollar una aplicaci\u00f3n Web donde podamos publicar los caf\u00e9s que nos tomamos durante largo d\u00eda de programaci\u00f3n.\n"
     ]
    },
    {
     "cell_type": "code",
     "collapsed": false,
     "input": [
      "from IPython.display import Image\n",
      "Image(filename=\"files/python_like_mug.jpg\")"
     ],
     "language": "python",
     "metadata": {
      "slideshow": {
       "slide_type": "fragment"
      }
     },
     "outputs": [
      {
       "jpeg": "[encoded data removed]",
       "metadata": {},
       "output_type": "pyout",
       "prompt_number": 6,
       "text": [
        "<IPython.core.display.Image at 0x3b036d0>"
       ]
      }
     ],
     "prompt_number": 6
    },
    {
     "cell_type": "markdown",
     "metadata": {
      "slideshow": {
       "slide_type": "slide"
      }
     },
     "source": [
      "### Posibles historias de usuario ###\n",
      "\n",
      "1. Un visitante podr\u00e1 registarte en nuestr\u00e1 p\u00e1gina con un nombre de usuario y contrase\u00f1a\n",
      "2. Un visitante podr\u00e1 identificarse en la p\u00e1gina como un usuario usando los datos del registro\n",
      "3. Un usuario podr\u00e1 indicar que se ha tomado un caf\u00e9, seleccionandolo de una lista\n",
      "4. Un usuario podr\u00e1 agregar un nuevo caf\u00e9 a la lista, indicando un nombre, una im\u00e1gen y una descripci\u00f3n\n"
     ]
    },
    {
     "cell_type": "markdown",
     "metadata": {
      "slideshow": {
       "slide_type": "slide"
      }
     },
     "source": [
      "Primero el proyecto\n",
      "-------------------\n",
      "\n",
      "Necesitamos crear un proyecto de Django:\n",
      "\n",
      "    django-admin.py startproject coffeeproject\n",
      "\n"
     ]
    },
    {
     "cell_type": "markdown",
     "metadata": {
      "slideshow": {
       "slide_type": "fragment"
      }
     },
     "source": [
      "    $ tree coffeeproject\n",
      "    \n",
      "    coffeeproject\n",
      "    \u251c\u2500\u2500 coffeeproject\n",
      "    \u2502   \u251c\u2500\u2500 __init__.py\n",
      "    \u2502   \u251c\u2500\u2500 settings.py\n",
      "    \u2502   \u251c\u2500\u2500 urls.py\n",
      "    \u2502   \u2514\u2500\u2500 wsgi.py\n",
      "    \u2514\u2500\u2500 manage.py\n",
      "    \n",
      "    1 directory, 5 files"
     ]
    },
    {
     "cell_type": "markdown",
     "metadata": {
      "slideshow": {
       "slide_type": "slide"
      }
     },
     "source": [
      "Los diferentes elementos de un proyecto reci\u00e9n creado:\n",
      "\n",
      "* Carpeta ``coffeproject`` en la ra\u00edz es el contenedor del proyecto\n",
      "* ``manage.py`` interfaz de l\u00ednea de comandos para la gesti\u00f3n del proyecto\n",
      "* Sub-carpeta ``coffeeproject`` es el paquete de Python principal para el proyecto\n",
      "* ``coffeeproject/settings.py`` contiene la configuraci\u00f3n del proyecto\n",
      "* ``coffeeproject/urls.py`` contiene las declaraciones de las URLs del proyecto\n",
      "* ``coffeeproject/wsgi.py`` punto de entrada para servidores compatibles con WSGI (para la puesta en producci\u00f3n)"
     ]
    },
    {
     "cell_type": "markdown",
     "metadata": {
      "slideshow": {
       "slide_type": "slide"
      }
     },
     "source": [
      "Servidor de desarrollo\n",
      "----------------------\n",
      "\n",
      "    python manage.py runserver\n",
      "    Validating models...\n",
      "    \n",
      "    0 errors found\n",
      "    February 06, 2014 - 10:41:49\n",
      "    Django version 1.6.1, using settings 'coffeeproject.settings'\n",
      "    Starting development server at http://127.0.0.1:8000/\n",
      "    Quit the server with CONTROL-C.\n"
     ]
    },
    {
     "cell_type": "markdown",
     "metadata": {
      "slideshow": {
       "slide_type": "slide"
      }
     },
     "source": [
      "settings.py\n",
      "-----------\n",
      "\n",
      "Fichero donde configuraremos todos los aspectos de nuestro proyecto.\n"
     ]
    },
    {
     "cell_type": "code",
     "collapsed": false,
     "input": [
      "# Database\n",
      "DATABASES = {\n",
      "    'default': {\n",
      "        'ENGINE': 'django.db.backends.sqlite3',\n",
      "        'NAME': os.path.join(BASE_DIR, 'db.sqlite3'),\n",
      "    }\n",
      "}"
     ],
     "language": "python",
     "metadata": {
      "slideshow": {
       "slide_type": "fragment"
      }
     },
     "outputs": []
    },
    {
     "cell_type": "code",
     "collapsed": false,
     "input": [
      "# Application definition\n",
      "\n",
      "INSTALLED_APPS = (\n",
      "    'django.contrib.admin',\n",
      "    'django.contrib.auth',\n",
      "    'django.contrib.contenttypes',\n",
      "    'django.contrib.sessions',\n",
      "    'django.contrib.messages',\n",
      "    'django.contrib.staticfiles',\n",
      ")\n"
     ],
     "language": "python",
     "metadata": {
      "slideshow": {
       "slide_type": "fragment"
      }
     },
     "outputs": []
    },
    {
     "cell_type": "code",
     "collapsed": false,
     "input": [
      "# Templates\n",
      "\n",
      "TEMPLATE_DIRS = (\n",
      "    os.path.join(BASE_DIR, 'templates'),\n",
      ")"
     ],
     "language": "python",
     "metadata": {
      "slideshow": {
       "slide_type": "fragment"
      }
     },
     "outputs": []
    },
    {
     "cell_type": "code",
     "collapsed": false,
     "input": [
      "# Static files (CSS, JavaScript, Images)\n",
      "\n",
      "STATIC_URL = '/static/'\n",
      "\n",
      "STATICFILES_DIRS = (\n",
      "    os.path.join(BASE_DIR, 'static'),\n",
      ")\n"
     ],
     "language": "python",
     "metadata": {
      "slideshow": {
       "slide_type": "fragment"
      }
     },
     "outputs": []
    },
    {
     "cell_type": "code",
     "collapsed": false,
     "input": [
      "# Media\n",
      "\n",
      "MEDIA_ROOT = os.path.join(BASE_DIR, 'media')\n",
      "\n",
      "MEDIA_URL = '/media/'\n"
     ],
     "language": "python",
     "metadata": {
      "slideshow": {
       "slide_type": "fragment"
      }
     },
     "outputs": []
    },
    {
     "cell_type": "markdown",
     "metadata": {
      "slideshow": {
       "slide_type": "slide"
      }
     },
     "source": [
      "Nuestra primera app\n",
      "-------------------\n",
      "\n",
      "    python manage.py startapp coffees\n",
      "    "
     ]
    },
    {
     "cell_type": "markdown",
     "metadata": {
      "slideshow": {
       "slide_type": "fragment"
      }
     },
     "source": [
      "    $ tree coffeeproject/\n",
      "    coffeeproject/\n",
      "    \u251c\u2500\u2500 coffeeproject\n",
      "    \u2502\u00a0\u00a0 \u251c\u2500\u2500 __init__.py\n",
      "    \u2502\u00a0\u00a0 \u251c\u2500\u2500 settings.py\n",
      "    \u2502\u00a0\u00a0 \u251c\u2500\u2500 urls.py\n",
      "    \u2502\u00a0\u00a0 \u2514\u2500\u2500 wsgi.py\n",
      "    \u251c\u2500\u2500 coffees\n",
      "    \u2502\u00a0\u00a0 \u251c\u2500\u2500 admin.py\n",
      "    \u2502\u00a0\u00a0 \u251c\u2500\u2500 __init__.py\n",
      "    \u2502\u00a0\u00a0 \u251c\u2500\u2500 models.py\n",
      "    \u2502\u00a0\u00a0 \u251c\u2500\u2500 tests.py\n",
      "    \u2502\u00a0\u00a0 \u2514\u2500\u2500 views.py\n",
      "    \u2514\u2500\u2500 manage.py\n",
      "\n",
      "    2 directories, 12 files\n",
      "\n"
     ]
    },
    {
     "cell_type": "markdown",
     "metadata": {
      "slideshow": {
       "slide_type": "slide"
      }
     },
     "source": [
      "* La carpeta ``coffees`` contiene la app creada\n",
      "* ``admin.py`` registro de modelos para la interfaz de administraci\u00f3n\n",
      "* ``models.py`` declaraci\u00f3n de los modelos\n",
      "* ``tests.py`` test de la app\n",
      "* ``views.py`` declaraci\u00f3n de las vistas"
     ]
    },
    {
     "cell_type": "markdown",
     "metadata": {
      "slideshow": {
       "slide_type": "slide"
      }
     },
     "source": [
      "Agregar la app reci\u00e9n creada a settings.py\n",
      "------------------------------------------\n",
      "\n",
      "Necesitamos agregar la app recien creada al fichero de ``settings.py``"
     ]
    },
    {
     "cell_type": "code",
     "collapsed": false,
     "input": [
      "# Application definition\n",
      "\n",
      "INSTALLED_APPS = (\n",
      "    'django.contrib.admin',\n",
      "    'django.contrib.auth',\n",
      "    'django.contrib.contenttypes',\n",
      "    'django.contrib.sessions',\n",
      "    'django.contrib.messages',\n",
      "    'django.contrib.staticfiles',\n",
      "    \n",
      "    'coffees' # New app\n",
      ")\n"
     ],
     "language": "python",
     "metadata": {
      "slideshow": {
       "slide_type": "fragment"
      }
     },
     "outputs": []
    },
    {
     "cell_type": "markdown",
     "metadata": {
      "slideshow": {
       "slide_type": "slide"
      }
     },
     "source": [
      "models.py\n",
      "---------\n",
      "\n",
      "Crearemos los modelos para poder representar un tipo de caf\u00e9 y la acci\u00f3n \"un usuario se toma un caf\u00e9\".\n"
     ]
    },
    {
     "cell_type": "code",
     "collapsed": false,
     "input": [
      "from django.conf import settings\n",
      "from django.db import models\n",
      "\n",
      "# Create your models here.\n",
      "\n",
      "\n",
      "class Coffee(models.Model):\n",
      "    \"\"\"\n",
      "    A coffee type.\n",
      "    \"\"\"\n",
      "    name = models.CharField(max_length=128)\n",
      "    picture = models.ImageField(upload_to=\"pictures\", null=True, blank=True, default='/static/img/coffee.jpg')\n",
      "\n",
      "    creator = models.ForeignKey(settings.AUTH_USER_MODEL, related_name=\"coffees_created\", null=True, blank=True)\n",
      "    created_at = models.DateTimeField(auto_now_add=True)\n",
      "\n",
      "\n",
      "class CoffeeTaken(models.Model):\n",
      "    \"\"\"\n",
      "    User drinks coffee.\n",
      "    \"\"\"\n",
      "    coffee = models.ForeignKey(Coffee, related_name=\"users_taken\")\n",
      "    user = models.ForeignKey(settings.AUTH_USER_MODEL, related_name=\"coffees_taken\")\n",
      "\n",
      "    created_at = models.DateTimeField(auto_now_add=True)"
     ],
     "language": "python",
     "metadata": {
      "slideshow": {
       "slide_type": "fragment"
      }
     },
     "outputs": []
    },
    {
     "cell_type": "markdown",
     "metadata": {
      "slideshow": {
       "slide_type": "slide"
      }
     },
     "source": [
      "Creamos la base de datos\n",
      "------------------------\n",
      "\n",
      "    ./manage.py syncdb \n",
      "    \n",
      "    ./manage.py sqlall coffees\n",
      "\n",
      "    \n",
      "    BEGIN;\n",
      "    CREATE TABLE \"coffees_coffee\" (\n",
      "        \"id\" integer NOT NULL PRIMARY KEY,\n",
      "        \"name\" varchar(128) NOT NULL,\n",
      "        \"picture\" varchar(100),\n",
      "        \"creator_id\" integer REFERENCES \"auth_user\" (\"id\"),\n",
      "        \"created_at\" datetime NOT NULL\n",
      "    )\n",
      "    ;\n",
      "    CREATE TABLE \"coffees_coffeetaken\" (\n",
      "        \"id\" integer NOT NULL PRIMARY KEY,\n",
      "        \"coffee_id\" integer NOT NULL REFERENCES \"coffees_coffee\" (\"id\"),\n",
      "        \"user_id\" integer NOT NULL REFERENCES \"auth_user\" (\"id\"),\n",
      "        \"created_at\" datetime NOT NULL\n",
      "    )\n",
      "    ;\n",
      "    CREATE INDEX \"coffees_coffee_ad376f8d\" ON \"coffees_coffee\" (\"creator_id\");\n",
      "    CREATE INDEX \"coffees_coffeetaken_9dd6e28c\" ON \"coffees_coffeetaken\" (\"coffee_id\");\n",
      "    CREATE INDEX \"coffees_coffeetaken_6340c63c\" ON \"coffees_coffeetaken\" (\"user_id\");\n",
      "    \n",
      "    COMMIT;"
     ]
    },
    {
     "cell_type": "markdown",
     "metadata": {
      "slideshow": {
       "slide_type": "slide"
      }
     },
     "source": [
      "Est\u00e1ticos\n",
      "---------\n",
      "\n",
      "En el ejemplo anterior, se le da un valor por defecto al campo ``picture`` del modelo. Este hace referencia a una im\u00e1gen que estar\u00e1 en la carpeta de est\u00e1ticos del proyecto:\n",
      "\n",
      "    coffeeproject/\n",
      "    | ...\n",
      "    \u251c\u2500\u2500 static\n",
      "    \u2502\u00a0\u00a0 \u2514\u2500\u2500 img\n",
      "    \u2502\u00a0\u00a0     \u2514\u2500\u2500 coffee.jpg\n",
      "    |...\n"
     ]
    },
    {
     "cell_type": "markdown",
     "metadata": {
      "slideshow": {
       "slide_type": "slide"
      }
     },
     "source": [
      "views.py\n",
      "--------\n",
      "\n",
      "\n",
      "Mostraremos los detalles de un tipo de caf\u00e9 y un listado de los caf\u00e9s disponibles"
     ]
    },
    {
     "cell_type": "code",
     "collapsed": false,
     "input": [
      "from django.shortcuts import render, get_object_or_404\n",
      "from coffees.models import Coffee\n",
      "\n",
      "\n",
      "def coffee_details(request, coffee_id):\n",
      "    \"\"\"\n",
      "    Details of a coffee\n",
      "    \"\"\"\n",
      "    coffee = get_object_or_404(Coffee, pk=coffee_id)\n",
      "    return render(request, \"coffees/details.html\", {\"coffee\": coffee})\n",
      "\n",
      "\n",
      "def coffees_list(request):\n",
      "    \"\"\"\n",
      "    List of available coffess\n",
      "    \"\"\"\n",
      "    coffees = Coffee.objects.all().order_by(\"-created_at\")\n",
      "    return render(request, \"coffees/list.html\", {\"coffees\": coffees})\n"
     ],
     "language": "python",
     "metadata": {
      "slideshow": {
       "slide_type": "fragment"
      }
     },
     "outputs": []
    },
    {
     "cell_type": "markdown",
     "metadata": {
      "slideshow": {
       "slide_type": "slide"
      }
     },
     "source": [
      "Templates\n",
      "---------\n",
      "\n",
      "Los *templates* se encargan del c\u00f3mo se muestra la informaci\u00f3n.\n",
      "\n",
      "Creamos una carpeta para los templates en el directorio ra\u00edz del proyecto, con los siguietes ficheros:\n",
      "\n",
      "    templates/\n",
      "    \u251c\u2500\u2500 base.html\n",
      "    \u2514\u2500\u2500 coffees\n",
      "        \u251c\u2500\u2500 details.html\n",
      "        \u2514\u2500\u2500 list.html\n",
      "    \n",
      "    1 directory, 3 files\n",
      "    \n",
      " "
     ]
    },
    {
     "cell_type": "markdown",
     "metadata": {
      "slideshow": {
       "slide_type": "slide"
      }
     },
     "source": [
      "### base.html ###\n",
      "\n",
      "    <!DOCTYPE html>\n",
      "    <html>\n",
      "    <head>\n",
      "        <title>{% block title %}Coffee{% endblock %}</title>\n",
      "        <link rel=\"stylesheet\" href=\"//netdna.bootstrapcdn.com/bootstrap/3.1.0/css/bootstrap.min.css\">\n",
      "        <link rel=\"stylesheet\" href=\"//netdna.bootstrapcdn.com/bootstrap/3.1.0/css/bootstrap-theme.min.css\">\n",
      "        <script src=\"http://code.jquery.com/jquery-1.10.1.min.js\"></script>\n",
      "        <script src=\"//netdna.bootstrapcdn.com/bootstrap/3.1.0/js/bootstrap.min.js\"></script>\n",
      "    </head>\n",
      "    <body>\n",
      "        <div class=\"container\">\n",
      "        {% block content %}{% endblock content %}\n",
      "        </div>\n",
      "    </body>\n",
      "    </html>"
     ]
    },
    {
     "cell_type": "markdown",
     "metadata": {
      "slideshow": {
       "slide_type": "slide"
      }
     },
     "source": [
      "### list.html ###\n",
      "    \n",
      "    {% extends \"base.html\" %}\n",
      "    {% load i18n %}\n",
      "    {% block content %}\n",
      "    \n",
      "        <h1>{% trans \"Caf\u00e9s disponibles\" %}</h1>\n",
      "    \n",
      "        {% for coffee in coffees %}\n",
      "            <div class=\"row\">\n",
      "                <div class=\"col-md-4\">\n",
      "                    <img src=\"{{ coffee.picture.url }}\" class=\"img-responsive\" />\n",
      "                </div>\n",
      "                <div class=\"col-md-8\">\n",
      "                    <strong>{{ coffee.name }}</strong>\n",
      "                </div>\n",
      "            </div>\n",
      "        {% empty %}\n",
      "            <h2><small>{% trans \"No hay caf\u00e9s\" %}</small></h2>\n",
      "        {% endfor %}\n",
      "    {% endblock %}"
     ]
    },
    {
     "cell_type": "markdown",
     "metadata": {
      "slideshow": {
       "slide_type": "slide"
      }
     },
     "source": [
      "### details.html ###\n",
      "\n",
      "    {% extends \"base.html\" %}\n",
      "    \n",
      "    {% block title %}Coffee | {{ coffee.name }}{% endblock %}\n",
      "    \n",
      "    {% block content %}\n",
      "    <div class=\"row\">\n",
      "        <div class=\"col-md-4\">\n",
      "            <img src=\"{{ coffee.picture.url }}\" class=\"img-responsive\" />\n",
      "        </div>\n",
      "        <div class=\"col-md-8\">\n",
      "            <h1>{{ coffee.name }}</h1>\n",
      "        </div>\n",
      "    </div>\n",
      "    {% endblock %}"
     ]
    },
    {
     "cell_type": "markdown",
     "metadata": {
      "slideshow": {
       "slide_type": "slide"
      }
     },
     "source": [
      "Definamos las URLs\n",
      "------------------\n",
      "\n",
      "Ya tenemos modelos, vistas y templates, ahora necesitamos definir las URLs con las que queremos interactuar con nuestra aplicaci\u00f3n.\n",
      "\n",
      "* ``coffeeproject/urls.py``\n"
     ]
    },
    {
     "cell_type": "code",
     "collapsed": false,
     "input": [
      "from django.conf.urls import patterns, url\n",
      "\n",
      "from django.contrib import admin\n",
      "admin.autodiscover()\n",
      "\n",
      "urlpatterns = patterns(\n",
      "    '',\n",
      "    url(r'^$', \"coffees.views.coffees_list\", name=\"coffees_list\"),\n",
      "    url(r'^coffees/(?P<coffee_id>\\d+)/', \"coffees.views.coffee_details\", name=\"coffee_details\"),\n",
      ")\n"
     ],
     "language": "python",
     "metadata": {
      "slideshow": {
       "slide_type": "fragment"
      }
     },
     "outputs": []
    },
    {
     "cell_type": "code",
     "collapsed": false,
     "input": [
      "from IPython.display import Image\n",
      "Image(filename=\"files/capture_1.jpg\")"
     ],
     "language": "python",
     "metadata": {
      "slideshow": {
       "slide_type": "fragment"
      }
     },
     "outputs": [
      {
       "jpeg": "[encoded data removed]",
       "metadata": {},
       "output_type": "pyout",
       "prompt_number": 8,
       "text": [
        "<IPython.core.display.Image at 0x3b03790>"
       ]
      }
     ],
     "prompt_number": 8
    },
    {
     "cell_type": "markdown",
     "metadata": {
      "slideshow": {
       "slide_type": "slide"
      }
     },
     "source": [
      "A\u00f1adir contenido nuevo: Formularios\n",
      "-----------------------------------\n",
      "\n",
      "Necesitamos que se puedan crear caf\u00e9s en nuestra aplicaci\u00f3n para poder verlos, para ello usaremos los ``Forms`` de Django.\n",
      "\n",
      "Creamos un fichero ``forms.py`` en la app ``coffees``:\n"
     ]
    },
    {
     "cell_type": "code",
     "collapsed": false,
     "input": [
      "from django.forms import ModelForm\n",
      "from coffees.models import Coffee\n",
      "\n",
      "\n",
      "class CreateCoffee(ModelForm):\n",
      "\n",
      "    class Meta:\n",
      "        model = Coffee\n",
      "        fields = ['name', 'picture']"
     ],
     "language": "python",
     "metadata": {
      "slideshow": {
       "slide_type": "fragment"
      }
     },
     "outputs": []
    },
    {
     "cell_type": "markdown",
     "metadata": {
      "slideshow": {
       "slide_type": "slide"
      }
     },
     "source": [
      "Actualizamos las vistas para a\u00f1adir la que se encargar\u00e1 de manejar el formulario:"
     ]
    },
    {
     "cell_type": "code",
     "collapsed": false,
     "input": [
      "from django.core.urlresolvers import reverse\n",
      "from django.shortcuts import render, get_object_or_404, redirect\n",
      "from coffees.forms import CreateCoffee\n",
      "from coffees.models import Coffee\n",
      "\n",
      "# ...\n",
      "\n",
      "def coffee_create(request):\n",
      "    \"\"\"\n",
      "    Creates new type of coffee.\n",
      "    \"\"\"\n",
      "    if request.method == \"GET\":\n",
      "        form = CreateCoffee()\n",
      "    else:\n",
      "        form = CreateCoffee(request.POST)\n",
      "        if form.is_valid():\n",
      "            coffee = form.save()\n",
      "            return redirect(reverse('coffee_details', kwargs={'coffee_id': coffee.pk}))\n",
      "    return render(request, \"coffees/new.html\", {\"form\": form})"
     ],
     "language": "python",
     "metadata": {
      "slideshow": {
       "slide_type": "fragment"
      }
     },
     "outputs": []
    },
    {
     "cell_type": "markdown",
     "metadata": {
      "slideshow": {
       "slide_type": "slide"
      }
     },
     "source": [
      "Creamos el template para mostrar el formulario:"
     ]
    },
    {
     "cell_type": "markdown",
     "metadata": {
      "slideshow": {
       "slide_type": "fragment"
      }
     },
     "source": [
      "    {% extends \"base.html\" %}\n",
      "    {% load i18n %}\n",
      "    \n",
      "    {% block content %}\n",
      "    \n",
      "        <h1>{% trans \"Nuevo caf\u00e9\" %}</h1>\n",
      "    \n",
      "        <form action=\"{% url \"coffee_create\" %}\" method=\"post\">\n",
      "            {% csrf_token %}\n",
      "            {{ form.as_p }}\n",
      "            <button class=\"btn btn-primary\">{% trans \"Crear\" %}</button>\n",
      "        </form>\n",
      "    \n",
      "    {% endblock %}"
     ]
    },
    {
     "cell_type": "markdown",
     "metadata": {
      "slideshow": {
       "slide_type": "slide"
      }
     },
     "source": [
      "Y de paso, a\u00f1adimos un enlace al template del listado de caf\u00e9s para acceder al formulario:"
     ]
    },
    {
     "cell_type": "markdown",
     "metadata": {
      "slideshow": {
       "slide_type": "fragment"
      }
     },
     "source": [
      "    {% extends \"base.html\" %}\n",
      "    {% load i18n %}\n",
      "    {% block content %}\n",
      "        \n",
      "        {# ... #}\n",
      "    \n",
      "        <h1>{% trans \"Caf\u00e9s disponibles\" %}</h1>\n",
      "    \n",
      "        <a href=\"{% url  \"coffee_create\" %}\" class=\"btn btn-primary\">{% trans \"Nuevo caf\u00e9\" %}</a>\n",
      "        \n",
      "        {# ... #}\n",
      "        \n",
      "    {% endblock content %}"
     ]
    },
    {
     "cell_type": "markdown",
     "metadata": {
      "slideshow": {
       "slide_type": "slide"
      }
     },
     "source": [
      "Por \u00faltimo, a\u00f1adimos una nueva URL para poder acceder al formulario:"
     ]
    },
    {
     "cell_type": "code",
     "collapsed": false,
     "input": [
      "from django.conf.urls import patterns, url\n",
      "\n",
      "from django.contrib import admin\n",
      "admin.autodiscover()\n",
      "\n",
      "urlpatterns = patterns(\n",
      "    '',\n",
      "    url(r'^$', \"coffees.views.coffees_list\", name=\"coffees_list\"),\n",
      "    url(r'^coffees/(?P<coffee_id>\\d+)/', \"coffees.views.coffee_details\", name=\"coffee_details\"),\n",
      "    url(r'^coffees/new/', \"coffees.views.coffee_create\", name=\"coffee_create\"), # New URL\n",
      ")\n"
     ],
     "language": "python",
     "metadata": {
      "slideshow": {
       "slide_type": "fragment"
      }
     },
     "outputs": []
    },
    {
     "cell_type": "code",
     "collapsed": false,
     "input": [
      "from IPython.display import Image\n",
      "Image(filename=\"files/capture_2.jpg\")"
     ],
     "language": "python",
     "metadata": {
      "slideshow": {
       "slide_type": "slide"
      }
     },
     "outputs": [
      {
       "jpeg": "[encoded data removed]",
       "metadata": {},
       "output_type": "pyout",
       "prompt_number": 9,
       "text": [
        "<IPython.core.display.Image at 0x3b03810>"
       ]
      }
     ],
     "prompt_number": 9
    },
    {
     "cell_type": "markdown",
     "metadata": {
      "slideshow": {
       "slide_type": "slide"
      }
     },
     "source": [
      "Ficheros subidos por los usuarios\n",
      "---------------------------------\n",
      "\n",
      "Para hacer accesibles los ficheros que los usuarios suben, hay que hacerlos accesibles en el fichero de URLs.\n",
      "\n",
      "**Esto no debe hacerse en un entorno de producci\u00f3n, donde los ficheros est\u00e1ticos deber\u00edan ser accedidos usando un servidor como Nginx*"
     ]
    },
    {
     "cell_type": "code",
     "collapsed": false,
     "input": [
      "from django.conf.urls import patterns, url\n",
      "from django.conf import settings\n",
      "from django.conf.urls.static import static\n",
      "from django.contrib import admin\n",
      "admin.autodiscover()\n",
      "\n",
      "urlpatterns = patterns(\n",
      "    '',\n",
      "    url(r'^$', \"coffees.views.coffees_list\", name=\"coffees_list\"),\n",
      "    url(r'^coffees/(?P<coffee_id>\\d+)/', \"coffees.views.coffee_details\", name=\"coffee_details\"),\n",
      "    url(r'^coffees/new/', \"coffees.views.coffee_create\", name=\"coffee_create\"),\n",
      ") + static(settings.MEDIA_URL, document_root=settings.MEDIA_ROOT)"
     ],
     "language": "python",
     "metadata": {
      "slideshow": {
       "slide_type": "fragment"
      }
     },
     "outputs": []
    },
    {
     "cell_type": "markdown",
     "metadata": {
      "slideshow": {
       "slide_type": "slide"
      }
     },
     "source": [
      "# C\u00f3digo fuente disponible en #\n",
      "\n",
      "# [https://github.com/marcosgabarda/workshop-introduction-django](https://github.com/marcosgabarda/workshop-introduction-django) #"
     ]
    }
   ],
   "metadata": {}
  }
 ]
}